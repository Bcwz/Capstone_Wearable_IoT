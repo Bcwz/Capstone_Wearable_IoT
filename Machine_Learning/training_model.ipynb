{
 "cells": [
  {
   "cell_type": "markdown",
   "metadata": {},
   "source": [
    "Part A: Data preparation (Data Cleaning and Data Preprocessing)\n",
    "Step 1: Import original / source dataset."
   ]
  },
  {
   "cell_type": "code",
   "execution_count": 3,
   "metadata": {},
   "outputs": [
    {
     "data": {
      "text/html": [
       "<div>\n",
       "<style scoped>\n",
       "    .dataframe tbody tr th:only-of-type {\n",
       "        vertical-align: middle;\n",
       "    }\n",
       "\n",
       "    .dataframe tbody tr th {\n",
       "        vertical-align: top;\n",
       "    }\n",
       "\n",
       "    .dataframe thead th {\n",
       "        text-align: right;\n",
       "    }\n",
       "</style>\n",
       "<table border=\"1\" class=\"dataframe\">\n",
       "  <thead>\n",
       "    <tr style=\"text-align: right;\">\n",
       "      <th></th>\n",
       "      <th>wbt_date</th>\n",
       "      <th>wbt_time</th>\n",
       "      <th>wet_bulb_temperature</th>\n",
       "    </tr>\n",
       "  </thead>\n",
       "  <tbody>\n",
       "    <tr>\n",
       "      <th>0</th>\n",
       "      <td>1982-01-01</td>\n",
       "      <td>1</td>\n",
       "      <td>24.7</td>\n",
       "    </tr>\n",
       "    <tr>\n",
       "      <th>1</th>\n",
       "      <td>1982-01-01</td>\n",
       "      <td>2</td>\n",
       "      <td>24.5</td>\n",
       "    </tr>\n",
       "    <tr>\n",
       "      <th>2</th>\n",
       "      <td>1982-01-01</td>\n",
       "      <td>3</td>\n",
       "      <td>24.3</td>\n",
       "    </tr>\n",
       "    <tr>\n",
       "      <th>3</th>\n",
       "      <td>1982-01-01</td>\n",
       "      <td>4</td>\n",
       "      <td>24.2</td>\n",
       "    </tr>\n",
       "    <tr>\n",
       "      <th>4</th>\n",
       "      <td>1982-01-01</td>\n",
       "      <td>5</td>\n",
       "      <td>24.2</td>\n",
       "    </tr>\n",
       "    <tr>\n",
       "      <th>...</th>\n",
       "      <td>...</td>\n",
       "      <td>...</td>\n",
       "      <td>...</td>\n",
       "    </tr>\n",
       "    <tr>\n",
       "      <th>351379</th>\n",
       "      <td>2022-01-31</td>\n",
       "      <td>20</td>\n",
       "      <td>24.5</td>\n",
       "    </tr>\n",
       "    <tr>\n",
       "      <th>351380</th>\n",
       "      <td>2022-01-31</td>\n",
       "      <td>21</td>\n",
       "      <td>24.5</td>\n",
       "    </tr>\n",
       "    <tr>\n",
       "      <th>351381</th>\n",
       "      <td>2022-01-31</td>\n",
       "      <td>22</td>\n",
       "      <td>24.4</td>\n",
       "    </tr>\n",
       "    <tr>\n",
       "      <th>351382</th>\n",
       "      <td>2022-01-31</td>\n",
       "      <td>23</td>\n",
       "      <td>24.5</td>\n",
       "    </tr>\n",
       "    <tr>\n",
       "      <th>351383</th>\n",
       "      <td>2022-01-31</td>\n",
       "      <td>24</td>\n",
       "      <td>24.7</td>\n",
       "    </tr>\n",
       "  </tbody>\n",
       "</table>\n",
       "<p>351384 rows × 3 columns</p>\n",
       "</div>"
      ],
      "text/plain": [
       "          wbt_date  wbt_time  wet_bulb_temperature\n",
       "0       1982-01-01         1                  24.7\n",
       "1       1982-01-01         2                  24.5\n",
       "2       1982-01-01         3                  24.3\n",
       "3       1982-01-01         4                  24.2\n",
       "4       1982-01-01         5                  24.2\n",
       "...            ...       ...                   ...\n",
       "351379  2022-01-31        20                  24.5\n",
       "351380  2022-01-31        21                  24.5\n",
       "351381  2022-01-31        22                  24.4\n",
       "351382  2022-01-31        23                  24.5\n",
       "351383  2022-01-31        24                  24.7\n",
       "\n",
       "[351384 rows x 3 columns]"
      ]
     },
     "execution_count": 3,
     "metadata": {},
     "output_type": "execute_result"
    }
   ],
   "source": [
    "import pandas as pd\n",
    "df = pd.read_csv(\"../Machine_Learning\\Dataset\\wet-bulb-temperature-hourly.csv\",header='infer')\n",
    "df"
   ]
  },
  {
   "cell_type": "markdown",
   "metadata": {},
   "source": [
    "Step 2: Remove unessary data set. Only requires last 5 years / 60 Months dataset.\n",
    "\n",
    "As the original dataset is using hourly dataset, we will need to calculate how many hourly dataset is required of X months using the formula: \n",
    "\n",
    "number of dataset required = months * weeks * days * hours"
   ]
  },
  {
   "cell_type": "code",
   "execution_count": 11,
   "metadata": {},
   "outputs": [
    {
     "name": "stdout",
     "output_type": "stream",
     "text": [
      "Number of dataset required = 40320\n"
     ]
    },
    {
     "data": {
      "text/html": [
       "<div>\n",
       "<style scoped>\n",
       "    .dataframe tbody tr th:only-of-type {\n",
       "        vertical-align: middle;\n",
       "    }\n",
       "\n",
       "    .dataframe tbody tr th {\n",
       "        vertical-align: top;\n",
       "    }\n",
       "\n",
       "    .dataframe thead th {\n",
       "        text-align: right;\n",
       "    }\n",
       "</style>\n",
       "<table border=\"1\" class=\"dataframe\">\n",
       "  <thead>\n",
       "    <tr style=\"text-align: right;\">\n",
       "      <th></th>\n",
       "      <th>wbt_date</th>\n",
       "      <th>wbt_time</th>\n",
       "      <th>wet_bulb_temperature</th>\n",
       "    </tr>\n",
       "  </thead>\n",
       "  <tbody>\n",
       "    <tr>\n",
       "      <th>311064</th>\n",
       "      <td>2017-06-27</td>\n",
       "      <td>1</td>\n",
       "      <td>25.6</td>\n",
       "    </tr>\n",
       "    <tr>\n",
       "      <th>311065</th>\n",
       "      <td>2017-06-27</td>\n",
       "      <td>2</td>\n",
       "      <td>25.6</td>\n",
       "    </tr>\n",
       "    <tr>\n",
       "      <th>311066</th>\n",
       "      <td>2017-06-27</td>\n",
       "      <td>3</td>\n",
       "      <td>25.9</td>\n",
       "    </tr>\n",
       "    <tr>\n",
       "      <th>311067</th>\n",
       "      <td>2017-06-27</td>\n",
       "      <td>4</td>\n",
       "      <td>26.0</td>\n",
       "    </tr>\n",
       "    <tr>\n",
       "      <th>311068</th>\n",
       "      <td>2017-06-27</td>\n",
       "      <td>5</td>\n",
       "      <td>22.7</td>\n",
       "    </tr>\n",
       "    <tr>\n",
       "      <th>...</th>\n",
       "      <td>...</td>\n",
       "      <td>...</td>\n",
       "      <td>...</td>\n",
       "    </tr>\n",
       "    <tr>\n",
       "      <th>351379</th>\n",
       "      <td>2022-01-31</td>\n",
       "      <td>20</td>\n",
       "      <td>24.5</td>\n",
       "    </tr>\n",
       "    <tr>\n",
       "      <th>351380</th>\n",
       "      <td>2022-01-31</td>\n",
       "      <td>21</td>\n",
       "      <td>24.5</td>\n",
       "    </tr>\n",
       "    <tr>\n",
       "      <th>351381</th>\n",
       "      <td>2022-01-31</td>\n",
       "      <td>22</td>\n",
       "      <td>24.4</td>\n",
       "    </tr>\n",
       "    <tr>\n",
       "      <th>351382</th>\n",
       "      <td>2022-01-31</td>\n",
       "      <td>23</td>\n",
       "      <td>24.5</td>\n",
       "    </tr>\n",
       "    <tr>\n",
       "      <th>351383</th>\n",
       "      <td>2022-01-31</td>\n",
       "      <td>24</td>\n",
       "      <td>24.7</td>\n",
       "    </tr>\n",
       "  </tbody>\n",
       "</table>\n",
       "<p>40320 rows × 3 columns</p>\n",
       "</div>"
      ],
      "text/plain": [
       "          wbt_date  wbt_time  wet_bulb_temperature\n",
       "311064  2017-06-27         1                  25.6\n",
       "311065  2017-06-27         2                  25.6\n",
       "311066  2017-06-27         3                  25.9\n",
       "311067  2017-06-27         4                  26.0\n",
       "311068  2017-06-27         5                  22.7\n",
       "...            ...       ...                   ...\n",
       "351379  2022-01-31        20                  24.5\n",
       "351380  2022-01-31        21                  24.5\n",
       "351381  2022-01-31        22                  24.4\n",
       "351382  2022-01-31        23                  24.5\n",
       "351383  2022-01-31        24                  24.7\n",
       "\n",
       "[40320 rows x 3 columns]"
      ]
     },
     "execution_count": 11,
     "metadata": {},
     "output_type": "execute_result"
    }
   ],
   "source": [
    "months = 60\n",
    "no_of_dataset_required = months * 4 * 7 *24\n",
    "print('Number of dataset required = %d' % (no_of_dataset_required))\n",
    "df.tail(no_of_dataset_required)"
   ]
  },
  {
   "cell_type": "markdown",
   "metadata": {},
   "source": []
  },
  {
   "cell_type": "markdown",
   "metadata": {},
   "source": [
    "Step 3: Check for any duplicate data in original dataset"
   ]
  },
  {
   "cell_type": "code",
   "execution_count": 12,
   "metadata": {},
   "outputs": [
    {
     "name": "stdout",
     "output_type": "stream",
     "text": [
      "Number of rows before discarding duplicates = 351384\n",
      "Number of rows after discarding duplicates = 351384\n"
     ]
    }
   ],
   "source": [
    "print('Number of rows before discarding duplicates = %d' % (df.shape[0]))\n",
    "df_remove_dup = df.drop_duplicates()\n",
    "print('Number of rows after discarding duplicates = %d' % (df_remove_dup.shape[0]))"
   ]
  },
  {
   "cell_type": "markdown",
   "metadata": {},
   "source": [
    "Step 4: \n",
    "i)Identify if attributes have missing data\n",
    "\n",
    "ii)count the number of missing values in each of these attributes"
   ]
  },
  {
   "cell_type": "code",
   "execution_count": 13,
   "metadata": {},
   "outputs": [
    {
     "name": "stdout",
     "output_type": "stream",
     "text": [
      "Number of instances = 351384\n",
      "Number of attributes = 3\n",
      "Number of missing values:\n",
      "\twbt_date: 0\n",
      "\twbt_time: 0\n",
      "\twet_bulb_temperature: 0\n"
     ]
    }
   ],
   "source": [
    "import numpy as np\n",
    "\n",
    "df_check_null = df_remove_dup.replace('?',np.NaN)\n",
    "\n",
    "print('Number of instances = %d' % (df_check_null.shape[0]))\n",
    "print('Number of attributes = %d' % (df_check_null.shape[1]))\n",
    "\n",
    "print('Number of missing values:')\n",
    "for col in df_check_null.columns:\n",
    "    print('\\t%s: %d' % (col,df_check_null[col].isna().sum()))"
   ]
  },
  {
   "cell_type": "markdown",
   "metadata": {},
   "source": [
    "Step 5: Drop missing data if any exists"
   ]
  },
  {
   "cell_type": "code",
   "execution_count": 14,
   "metadata": {},
   "outputs": [
    {
     "name": "stdout",
     "output_type": "stream",
     "text": [
      "Number of rows in original data = 351384\n",
      "Number of rows after discarding missing values = 351384\n"
     ]
    }
   ],
   "source": [
    "print('Number of rows in original data = %d' % (df_check_null.shape[0]))\n",
    "df_drop_null = df_check_null.dropna()\n",
    "print('Number of rows after discarding missing values = %d' % (df_drop_null.shape[0]))"
   ]
  },
  {
   "cell_type": "markdown",
   "metadata": {},
   "source": [
    "Part B: Data Mining"
   ]
  },
  {
   "cell_type": "markdown",
   "metadata": {},
   "source": []
  }
 ],
 "metadata": {
  "interpreter": {
   "hash": "93264614f0afd1dbbb29ac9282aac91c452ec7976592dfba9ea9c14963212ce0"
  },
  "kernelspec": {
   "display_name": "Python 3.9.5 64-bit",
   "language": "python",
   "name": "python3"
  },
  "language_info": {
   "codemirror_mode": {
    "name": "ipython",
    "version": 3
   },
   "file_extension": ".py",
   "mimetype": "text/x-python",
   "name": "python",
   "nbconvert_exporter": "python",
   "pygments_lexer": "ipython3",
   "version": "3.9.5"
  },
  "orig_nbformat": 4
 },
 "nbformat": 4,
 "nbformat_minor": 2
}
